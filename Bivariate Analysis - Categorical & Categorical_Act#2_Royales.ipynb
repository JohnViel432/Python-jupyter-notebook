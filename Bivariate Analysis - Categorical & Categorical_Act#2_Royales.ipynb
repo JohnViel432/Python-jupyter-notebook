{
 "cells": [
  {
   "cell_type": "code",
   "execution_count": 1,
   "id": "203e72d3",
   "metadata": {},
   "outputs": [],
   "source": [
    "import pandas as pd\n",
    "import matplotlib.pyplot as plt\n",
    "from scipy.stats import chi2_contingency"
   ]
  },
  {
   "cell_type": "code",
   "execution_count": 2,
   "id": "3a1a6135",
   "metadata": {},
   "outputs": [],
   "source": [
    "df = pd.read_csv('E:\\Wine.csv')"
   ]
  },
  {
   "cell_type": "code",
   "execution_count": 5,
   "id": "8033e6d0",
   "metadata": {},
   "outputs": [
    {
     "data": {
      "text/html": [
       "<div>\n",
       "<style scoped>\n",
       "    .dataframe tbody tr th:only-of-type {\n",
       "        vertical-align: middle;\n",
       "    }\n",
       "\n",
       "    .dataframe tbody tr th {\n",
       "        vertical-align: top;\n",
       "    }\n",
       "\n",
       "    .dataframe thead th {\n",
       "        text-align: right;\n",
       "    }\n",
       "</style>\n",
       "<table border=\"1\" class=\"dataframe\">\n",
       "  <thead>\n",
       "    <tr style=\"text-align: right;\">\n",
       "      <th></th>\n",
       "      <th>Alcohol</th>\n",
       "      <th>Magnesium</th>\n",
       "      <th>Flavanoids</th>\n",
       "      <th>Color intensity</th>\n",
       "      <th>Flavor</th>\n",
       "    </tr>\n",
       "  </thead>\n",
       "  <tbody>\n",
       "    <tr>\n",
       "      <th>0</th>\n",
       "      <td>14.23</td>\n",
       "      <td>127</td>\n",
       "      <td>3.06</td>\n",
       "      <td>5.64</td>\n",
       "      <td>apple</td>\n",
       "    </tr>\n",
       "    <tr>\n",
       "      <th>1</th>\n",
       "      <td>13.20</td>\n",
       "      <td>100</td>\n",
       "      <td>2.76</td>\n",
       "      <td>4.38</td>\n",
       "      <td>apple</td>\n",
       "    </tr>\n",
       "    <tr>\n",
       "      <th>2</th>\n",
       "      <td>13.16</td>\n",
       "      <td>101</td>\n",
       "      <td>3.24</td>\n",
       "      <td>5.68</td>\n",
       "      <td>apple</td>\n",
       "    </tr>\n",
       "    <tr>\n",
       "      <th>3</th>\n",
       "      <td>14.37</td>\n",
       "      <td>113</td>\n",
       "      <td>3.49</td>\n",
       "      <td>7.80</td>\n",
       "      <td>apple</td>\n",
       "    </tr>\n",
       "    <tr>\n",
       "      <th>4</th>\n",
       "      <td>13.24</td>\n",
       "      <td>118</td>\n",
       "      <td>2.69</td>\n",
       "      <td>4.32</td>\n",
       "      <td>apple</td>\n",
       "    </tr>\n",
       "    <tr>\n",
       "      <th>5</th>\n",
       "      <td>14.20</td>\n",
       "      <td>112</td>\n",
       "      <td>3.39</td>\n",
       "      <td>6.75</td>\n",
       "      <td>grapes</td>\n",
       "    </tr>\n",
       "    <tr>\n",
       "      <th>6</th>\n",
       "      <td>14.39</td>\n",
       "      <td>96</td>\n",
       "      <td>2.52</td>\n",
       "      <td>5.25</td>\n",
       "      <td>grapes</td>\n",
       "    </tr>\n",
       "    <tr>\n",
       "      <th>7</th>\n",
       "      <td>14.06</td>\n",
       "      <td>121</td>\n",
       "      <td>2.51</td>\n",
       "      <td>5.05</td>\n",
       "      <td>grapes</td>\n",
       "    </tr>\n",
       "    <tr>\n",
       "      <th>8</th>\n",
       "      <td>14.83</td>\n",
       "      <td>97</td>\n",
       "      <td>2.98</td>\n",
       "      <td>5.20</td>\n",
       "      <td>grapes</td>\n",
       "    </tr>\n",
       "    <tr>\n",
       "      <th>9</th>\n",
       "      <td>13.86</td>\n",
       "      <td>98</td>\n",
       "      <td>3.15</td>\n",
       "      <td>7.22</td>\n",
       "      <td>grapes</td>\n",
       "    </tr>\n",
       "    <tr>\n",
       "      <th>10</th>\n",
       "      <td>14.10</td>\n",
       "      <td>105</td>\n",
       "      <td>3.32</td>\n",
       "      <td>5.75</td>\n",
       "      <td>grapes</td>\n",
       "    </tr>\n",
       "    <tr>\n",
       "      <th>11</th>\n",
       "      <td>14.12</td>\n",
       "      <td>95</td>\n",
       "      <td>2.43</td>\n",
       "      <td>5.00</td>\n",
       "      <td>grapes</td>\n",
       "    </tr>\n",
       "    <tr>\n",
       "      <th>12</th>\n",
       "      <td>13.75</td>\n",
       "      <td>89</td>\n",
       "      <td>2.76</td>\n",
       "      <td>5.60</td>\n",
       "      <td>oranges</td>\n",
       "    </tr>\n",
       "    <tr>\n",
       "      <th>13</th>\n",
       "      <td>14.75</td>\n",
       "      <td>91</td>\n",
       "      <td>3.69</td>\n",
       "      <td>5.40</td>\n",
       "      <td>oranges</td>\n",
       "    </tr>\n",
       "    <tr>\n",
       "      <th>14</th>\n",
       "      <td>13.63</td>\n",
       "      <td>112</td>\n",
       "      <td>2.91</td>\n",
       "      <td>7.30</td>\n",
       "      <td>oranges</td>\n",
       "    </tr>\n",
       "    <tr>\n",
       "      <th>15</th>\n",
       "      <td>14.30</td>\n",
       "      <td>120</td>\n",
       "      <td>3.14</td>\n",
       "      <td>6.20</td>\n",
       "      <td>oranges</td>\n",
       "    </tr>\n",
       "    <tr>\n",
       "      <th>16</th>\n",
       "      <td>13.83</td>\n",
       "      <td>115</td>\n",
       "      <td>3.40</td>\n",
       "      <td>6.60</td>\n",
       "      <td>oranges</td>\n",
       "    </tr>\n",
       "    <tr>\n",
       "      <th>17</th>\n",
       "      <td>14.19</td>\n",
       "      <td>108</td>\n",
       "      <td>3.93</td>\n",
       "      <td>8.70</td>\n",
       "      <td>oranges</td>\n",
       "    </tr>\n",
       "    <tr>\n",
       "      <th>18</th>\n",
       "      <td>13.64</td>\n",
       "      <td>116</td>\n",
       "      <td>3.03</td>\n",
       "      <td>5.10</td>\n",
       "      <td>oranges</td>\n",
       "    </tr>\n",
       "  </tbody>\n",
       "</table>\n",
       "</div>"
      ],
      "text/plain": [
       "    Alcohol  Magnesium  Flavanoids  Color intensity   Flavor\n",
       "0     14.23        127        3.06             5.64    apple\n",
       "1     13.20        100        2.76             4.38    apple\n",
       "2     13.16        101        3.24             5.68    apple\n",
       "3     14.37        113        3.49             7.80    apple\n",
       "4     13.24        118        2.69             4.32    apple\n",
       "5     14.20        112        3.39             6.75   grapes\n",
       "6     14.39         96        2.52             5.25   grapes\n",
       "7     14.06        121        2.51             5.05   grapes\n",
       "8     14.83         97        2.98             5.20   grapes\n",
       "9     13.86         98        3.15             7.22   grapes\n",
       "10    14.10        105        3.32             5.75   grapes\n",
       "11    14.12         95        2.43             5.00   grapes\n",
       "12    13.75         89        2.76             5.60  oranges\n",
       "13    14.75         91        3.69             5.40  oranges\n",
       "14    13.63        112        2.91             7.30  oranges\n",
       "15    14.30        120        3.14             6.20  oranges\n",
       "16    13.83        115        3.40             6.60  oranges\n",
       "17    14.19        108        3.93             8.70  oranges\n",
       "18    13.64        116        3.03             5.10  oranges"
      ]
     },
     "execution_count": 5,
     "metadata": {},
     "output_type": "execute_result"
    }
   ],
   "source": [
    "df.head(25)"
   ]
  },
  {
   "cell_type": "code",
   "execution_count": 10,
   "id": "ba26bdfc",
   "metadata": {},
   "outputs": [
    {
     "data": {
      "image/png": "[encoded data removed]",
      "text/plain": [
       "<Figure size 432x288 with 1 Axes>"
      ]
     },
     "metadata": {
      "needs_background": "light"
     },
     "output_type": "display_data"
    }
   ],
   "source": [
    "#Stacked Column \n",
    "df.groupby(['Flavanoids', 'Color intensity']).size().unstack().plot(kind='bar', stacked=True)\n",
    "plt.show()"
   ]
  },
  {
   "cell_type": "code",
   "execution_count": 11,
   "id": "02f24146",
   "metadata": {},
   "outputs": [
    {
     "data": {
      "image/png": "[encoded data removed]",
      "text/plain": [
       "<Figure size 432x288 with 1 Axes>"
      ]
     },
     "metadata": {
      "needs_background": "light"
     },
     "output_type": "display_data"
    },
    {
     "data": {
      "image/png": "[encoded data removed]",
      "text/plain": [
       "<Figure size 432x288 with 1 Axes>"
      ]
     },
     "metadata": {
      "needs_background": "light"
     },
     "output_type": "display_data"
    }
   ],
   "source": [
    "#combination\n",
    "df.groupby(['Flavanoids']).size().plot(kind='bar', color='blue')\n",
    "df.groupby(['Flavanoids', 'Color intensity']).size().unstack().plot(kind='bar', stacked=True, color=['orange', 'green'])\n",
    "plt.show()"
   ]
  },
  {
   "cell_type": "code",
   "execution_count": 14,
   "id": "8f424ae0",
   "metadata": {},
   "outputs": [],
   "source": [
    "#Chi-square Test\n",
    "contingency_table = pd.crosstab(df['Flavanoids'], df['Color intensity'])\n",
    "chi2, p, dof, expected = chi2_contingency(contingency_table)"
   ]
  },
  {
   "cell_type": "code",
   "execution_count": 16,
   "id": "53c7dc69",
   "metadata": {},
   "outputs": [
    {
     "name": "stdout",
     "output_type": "stream",
     "text": [
      "Chi2-square statistic: 323.0000000000001\n"
     ]
    }
   ],
   "source": [
    "print(\"Chi2-square statistic:\", chi2)"
   ]
  },
  {
   "cell_type": "code",
   "execution_count": null,
   "id": "9acbee89",
   "metadata": {},
   "outputs": [],
   "source": []
  }
 ],
 "metadata": {
  "kernelspec": {
   "display_name": "Python 3 (ipykernel)",
   "language": "python",
   "name": "python3"
  },
  "language_info": {
   "codemirror_mode": {
    "name": "ipython",
    "version": 3
   },
   "file_extension": ".py",
   "mimetype": "text/x-python",
   "name": "python",
   "nbconvert_exporter": "python",
   "pygments_lexer": "ipython3",
   "version": "3.9.12"
  }
 },
 "nbformat": 4,
 "nbformat_minor": 5
}
