{
 "cells": [
  {
   "cell_type": "code",
   "execution_count": 1,
   "id": "d6b9657e",
   "metadata": {},
   "outputs": [],
   "source": [
    "import pandas as pd\n",
    "from sklearn.model_selection import train_test_split\n",
    "from sklearn.linear_model import LinearRegression\n",
    "from sklearn.metrics import mean_squared_error, mean_absolute_error, r2_score\n",
    "import numpy as np\n",
    "import matplotlib.pyplot as plt\n",
    "\n",
    "# Load the dataset\n",
    "data = pd.read_csv('E:heart_failure_clinical_records_dataset.csv')"
   ]
  },
  {
   "cell_type": "code",
   "execution_count": 2,
   "id": "d3676131",
   "metadata": {},
   "outputs": [],
   "source": [
    "# Separate features (X) and target variable (y)\n",
    "X = data.drop('serum_creatinine', axis=1)\n",
    "y = data['time']"
   ]
  },
  {
   "cell_type": "code",
   "execution_count": 3,
   "id": "4c1da438",
   "metadata": {},
   "outputs": [],
   "source": [
    "# Split the data into training and testing sets\n",
    "X_train, X_test, y_train, y_test = train_test_split(X, y, test_size=0.2, random_state=42)"
   ]
  },
  {
   "cell_type": "code",
   "execution_count": 4,
   "id": "66abba44",
   "metadata": {},
   "outputs": [
    {
     "data": {
      "text/plain": [
       "LinearRegression()"
      ]
     },
     "execution_count": 4,
     "metadata": {},
     "output_type": "execute_result"
    }
   ],
   "source": [
    "# Create and train a linear regression model\n",
    "model = LinearRegression()\n",
    "model.fit(X_train, y_train)"
   ]
  },
  {
   "cell_type": "code",
   "execution_count": 5,
   "id": "7596a3bc",
   "metadata": {},
   "outputs": [],
   "source": [
    "# Make predictions on the test set\n",
    "y_pred = model.predict(X_test)"
   ]
  },
  {
   "cell_type": "code",
   "execution_count": 6,
   "id": "f23f7c3a",
   "metadata": {},
   "outputs": [
    {
     "name": "stdout",
     "output_type": "stream",
     "text": [
      "Root Mean Squared Error (RMSE): 3.766526896151583e-12\n"
     ]
    }
   ],
   "source": [
    "# Root Mean Squared Error (RMSE)\n",
    "rmse = np.sqrt(mean_squared_error(y_test, y_pred))\n",
    "print(\"Root Mean Squared Error (RMSE):\", rmse)"
   ]
  },
  {
   "cell_type": "code",
   "execution_count": 7,
   "id": "9d7a96c2",
   "metadata": {},
   "outputs": [
    {
     "name": "stdout",
     "output_type": "stream",
     "text": [
      "Relative Squared Error (RSE): 5.08528327777764e-14\n"
     ]
    }
   ],
   "source": [
    "import pandas as pd\n",
    "from sklearn.model_selection import train_test_split\n",
    "from sklearn.linear_model import LinearRegression\n",
    "from sklearn.metrics import mean_squared_error\n",
    "import numpy as np\n",
    "\n",
    "# Load the dataset\n",
    "data = pd.read_csv('E:heart_failure_clinical_records_dataset.csv')\n",
    "\n",
    "# Separate features (X) and target variable (y)\n",
    "X = data.drop('serum_creatinine', axis=1)\n",
    "y = data['time']\n",
    "\n",
    "# Split the data into training and testing sets\n",
    "X_train, X_test, y_train, y_test = train_test_split(X, y, test_size=0.2, random_state=42)\n",
    "\n",
    "# Create and train a linear regression model\n",
    "model = LinearRegression()\n",
    "model.fit(X_train, y_train)\n",
    "\n",
    "# Make predictions on the test set\n",
    "y_pred = model.predict(X_test)\n",
    "\n",
    "# Calculate the RMSE of the model\n",
    "rmse = np.sqrt(mean_squared_error(y_test, y_pred))\n",
    "\n",
    "# Calculate the RMSE of the baseline model (using the mean of the target variable)\n",
    "y_mean = np.mean(y_test)\n",
    "baseline_rmse = np.sqrt(mean_squared_error(y_test, np.full_like(y_test, y_mean)))\n",
    "\n",
    "# Calculate the Relative Squared Error (RSE)\n",
    "rse = rmse / baseline_rmse\n",
    "\n",
    "# Print the RSE value\n",
    "print(\"Relative Squared Error (RSE):\", rse)\n"
   ]
  },
  {
   "cell_type": "code",
   "execution_count": 8,
   "id": "5aea1649",
   "metadata": {},
   "outputs": [
    {
     "name": "stdout",
     "output_type": "stream",
     "text": [
      "Mean Absolute Error (MAE): 2.887482845418769e-12\n"
     ]
    }
   ],
   "source": [
    "# Mean Absolute Error (MAE)\n",
    "mae = mean_absolute_error(y_test, y_pred)\n",
    "print(\"Mean Absolute Error (MAE):\", mae)\n"
   ]
  },
  {
   "cell_type": "code",
   "execution_count": 9,
   "id": "67dcb7da",
   "metadata": {},
   "outputs": [
    {
     "name": "stdout",
     "output_type": "stream",
     "text": [
      "Relative Absolute Error (RAE): 4.478106149843003e-14\n"
     ]
    }
   ],
   "source": [
    "# Relative Absolute Error (RAE)\n",
    "rae = mean_absolute_error(y_test, y_pred) / np.mean(np.abs(y_test - y_mean))\n",
    "print(\"Relative Absolute Error (RAE):\", rae)"
   ]
  },
  {
   "cell_type": "code",
   "execution_count": 10,
   "id": "3d9ce103",
   "metadata": {},
   "outputs": [
    {
     "name": "stdout",
     "output_type": "stream",
     "text": [
      "Coefficient of Determination (R^2): 1.0\n"
     ]
    }
   ],
   "source": [
    "# Coefficient of Determination (R^2)\n",
    "r2 = r2_score(y_test, y_pred)\n",
    "print(\"Coefficient of Determination (R^2):\", r2)"
   ]
  },
  {
   "cell_type": "code",
   "execution_count": 11,
   "id": "5d15e382",
   "metadata": {},
   "outputs": [
    {
     "data": {
      "image/png": "[encoded data removed]",
      "text/plain": [
       "<Figure size 432x288 with 1 Axes>"
      ]
     },
     "metadata": {
      "needs_background": "light"
     },
     "output_type": "display_data"
    }
   ],
   "source": [
    "# Standardized Residuals (Errors) Plot\n",
    "residuals = y_test - y_pred\n",
    "plt.scatter(y_pred, residuals)\n",
    "plt.axhline(y=0, color='r', linestyle='--')\n",
    "plt.xlabel('Predicted values')\n",
    "plt.ylabel('Residuals')\n",
    "plt.title('Standardized Residuals (Errors) Plot')\n",
    "plt.show()"
   ]
  },
  {
   "cell_type": "code",
   "execution_count": null,
   "id": "f697009f",
   "metadata": {},
   "outputs": [],
   "source": [
    "The features (X) and the target variable (y) are separated from the dataset.\n",
    "The data is split into training and testing sets using train_test_split(). \n",
    "The test size is set to 20% of the data, and the random state is set to 42 for reproducibility.\n",
    "A linear regression model is created using LinearRegression(), and it is trained on the training data using fit().\n",
    "Predictions are made on the test set using predict().\n",
    "The Root Mean Squared Error (RMSE) is computed using mean_squared_error() and np.sqrt(). \n",
    "It measures the average deviation of the predicted values from the actual values.\n",
    "The Mean Absolute Error (MAE) is computed using mean_absolute_error().\n",
    "It represents the average absolute difference between the predicted and actual values.\n",
    "The Relative Absolute Error (RAE) is calculated by dividing the MAE \n",
    "by the mean absolute difference between the actual values and the mean of the actual values.\n",
    "The Coefficient of Determination (R^2) is computed using r2_score().\n",
    "It indicates the proportion of the variance in the target variable that can be explained by the model.\n",
    "A scatter plot of the standardized residuals (errors) is plotted using matplotlib.\n",
    "The residuals are obtained by subtracting the predicted values from the actual values.\n",
    "The plot helps visualize the distribution of errors and check for any patterns or outliers.\n",
    "Ensure you have the necessary libraries installed, such as pandas, numpy, and scikit-learn, using pip.\n",
    "The code provides various evaluation metrics and visualizations to assess \n",
    "the performance of the linear regression model in predicting the target variable.\n",
    "These metrics help evaluate the accuracy, precision, and overall performance of the model.\n",
    "The scatter plot of the residuals helps identify any systematic patterns in the errors, \n",
    "such as nonlinearity or heteroscedasticity.\n",
    "Based on the results, the model seems to have very low errors, indicating a close fit to the actual values.\n",
    "The R^2 value of 1.0 suggests that the model perfectly explains the variability in the target variable.\n",
    "However, keep in mind that achieving a perfect R^2 value may indicate overfitting,\n",
    "so it's important to consider other metrics and perform cross-validation to assess the model's generalizability."
   ]
  }
 ],
 "metadata": {
  "kernelspec": {
   "display_name": "Python 3 (ipykernel)",
   "language": "python",
   "name": "python3"
  },
  "language_info": {
   "codemirror_mode": {
    "name": "ipython",
    "version": 3
   },
   "file_extension": ".py",
   "mimetype": "text/x-python",
   "name": "python",
   "nbconvert_exporter": "python",
   "pygments_lexer": "ipython3",
   "version": "3.9.12"
  }
 },
 "nbformat": 4,
 "nbformat_minor": 5
}
