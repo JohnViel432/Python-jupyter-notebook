{
 "cells": [
  {
   "cell_type": "code",
   "execution_count": 9,
   "id": "a59da43e",
   "metadata": {},
   "outputs": [
    {
     "name": "stdout",
     "output_type": "stream",
     "text": [
      "Filtered Rules:\n",
      "      antecedents consequents  antecedent support  consequent support  \\\n",
      "1           (0.9)       (0.0)            0.107023            1.000000   \n",
      "2           (0.0)       (1.0)            1.000000            0.966555   \n",
      "3           (1.0)       (0.0)            0.966555            1.000000   \n",
      "5           (1.1)       (0.0)            0.107023            1.000000   \n",
      "7          (25.0)       (0.0)            0.120401            1.000000   \n",
      "..            ...         ...                 ...                 ...   \n",
      "118  (137.0, 1.0)       (0.0)            0.120401            1.000000   \n",
      "121  (0.0, 140.0)       (1.0)            0.120401            0.966555   \n",
      "122  (1.0, 140.0)       (0.0)            0.120401            1.000000   \n",
      "125       (140.0)  (0.0, 1.0)            0.120401            0.966555   \n",
      "126  (1.0, 582.0)       (0.0)            0.150502            1.000000   \n",
      "\n",
      "      support  confidence      lift  leverage  conviction  zhangs_metric  \n",
      "1    0.107023    1.000000  1.000000  0.000000         inf       0.000000  \n",
      "2    0.966555    0.966555  1.000000  0.000000         1.0       0.000000  \n",
      "3    0.966555    1.000000  1.000000  0.000000         inf       0.000000  \n",
      "5    0.107023    1.000000  1.000000  0.000000         inf       0.000000  \n",
      "7    0.120401    1.000000  1.000000  0.000000         inf       0.000000  \n",
      "..        ...         ...       ...       ...         ...            ...  \n",
      "118  0.120401    1.000000  1.000000  0.000000         inf       0.000000  \n",
      "121  0.120401    1.000000  1.034602  0.004027         inf       0.038023  \n",
      "122  0.120401    1.000000  1.000000  0.000000         inf       0.000000  \n",
      "125  0.120401    1.000000  1.034602  0.004027         inf       0.038023  \n",
      "126  0.150502    1.000000  1.000000  0.000000         inf       0.000000  \n",
      "\n",
      "[65 rows x 10 columns]\n"
     ]
    },
    {
     "data": {
      "image/png": "[encoded data removed]",
      "text/plain": [
       "<Figure size 720x432 with 1 Axes>"
      ]
     },
     "metadata": {
      "needs_background": "light"
     },
     "output_type": "display_data"
    }
   ],
   "source": [
    "import pandas as pd\n",
    "from mlxtend.frequent_patterns import apriori\n",
    "from mlxtend.frequent_patterns import association_rules\n",
    "from mlxtend.preprocessing import TransactionEncoder\n",
    "from mlxtend.frequent_patterns import association_rules\n",
    "import matplotlib.pyplot as plt\n",
    "\n",
    "# Load the dataset\n",
    "data = pd.read_csv('E:heart_failure_clinical_records_dataset.csv')\n",
    "\n",
    "\n",
    "# Convert the dataset into a transactional format\n",
    "te = TransactionEncoder()\n",
    "te_ary = te.fit(data.values).transform(data.values)\n",
    "df = pd.DataFrame(te_ary, columns=te.columns_)\n",
    "\n",
    "# Perform association rule mining using Apriori algorithm\n",
    "frequent_itemsets = apriori(df, min_support=0.1, use_colnames=True)\n",
    "\n",
    "# Generate association rules\n",
    "rules = association_rules(frequent_itemsets, metric='lift', min_threshold=1)\n",
    "\n",
    "# Apply association rule filters (example: filtering by confidence)\n",
    "filtered_rules = rules[rules['confidence'] > 0.8]\n",
    "\n",
    "# Display the filtered rules\n",
    "print(\"Filtered Rules:\")\n",
    "print(filtered_rules)\n",
    "\n",
    "# Association Rules Explorer\n",
    "plt.figure(figsize=(10, 6))\n",
    "plt.scatter(rules['support'], rules['confidence'], alpha=0.5)\n",
    "plt.xlabel('Support')\n",
    "plt.ylabel('Confidence')\n",
    "plt.title('Association Rules Explorer')\n",
    "plt.show()\n"
   ]
  },
  {
   "cell_type": "code",
   "execution_count": null,
   "id": "e2c24320",
   "metadata": {},
   "outputs": [],
   "source": [
    "If any preprocessing steps are required on the dataset, you can perform them at this stage.\n",
    "The dataset is converted into a transactional format using the TransactionEncoder class from mlxtend.preprocessing.\n",
    "It converts the dataset into a binary matrix format where each row represents a transaction and each column represents an item.\n",
    "The Apriori algorithm is applied to the transactional dataset using the apriori function from mlxtend.frequent_patterns. \n",
    "The min_support parameter specifies the minimum support threshold for an itemset to be considered frequent, \n",
    "and use_colnames=True ensures that the item names are used in the resulting DataFrame.\n",
    "Association rules are generated from the frequent itemsets using the association_rules function from mlxtend.frequent_patterns.\n",
    "The metric parameter is set to 'lift', and the min_threshold parameter is set to 1, \n",
    "indicating that only rules with a lift value greater than 1 will be generated.\n",
    "Association rule filters can be applied to the generated rules based on different metrics. \n",
    "In this code, the confidence filter is applied by selecting only the rules with a confidence greater than 0.8.\n",
    "The filtered rules are displayed using print().\n",
    "The Association Rules Explorer is visualized using a scatter plot. \n",
    "The plt.scatter() function is used to create a scatter plot of the association rules,\n",
    "where the x-axis represents the support and the y-axis represents the confidence. \n",
    "The transparency of the points is set to 0.5 using alpha=0.5 to indicate overlapping points.\n",
    "The x-axis label is set to 'Support', the y-axis label is set to 'Confidence', \n",
    "and the plot title is set to 'Association Rules Explorer'.\n",
    "The scatter plot is displayed using plt.show().\n",
    "The code allows you to mine association rules from the dataset using the Apriori algorithm \n",
    "and visualize the support-confidence relationship using the Association Rules Explorer. \n",
    "The filtered rules and the scatter plot provide insights into the frequent itemsets, association rules,\n",
    "and their support-confidence characteristics."
   ]
  }
 ],
 "metadata": {
  "kernelspec": {
   "display_name": "Python 3 (ipykernel)",
   "language": "python",
   "name": "python3"
  },
  "language_info": {
   "codemirror_mode": {
    "name": "ipython",
    "version": 3
   },
   "file_extension": ".py",
   "mimetype": "text/x-python",
   "name": "python",
   "nbconvert_exporter": "python",
   "pygments_lexer": "ipython3",
   "version": "3.9.12"
  }
 },
 "nbformat": 4,
 "nbformat_minor": 5
}
