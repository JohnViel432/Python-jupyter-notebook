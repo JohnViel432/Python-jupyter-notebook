{
 "cells": [
  {
   "cell_type": "code",
   "execution_count": 1,
   "id": "d98a0f05",
   "metadata": {},
   "outputs": [
    {
     "name": "stdout",
     "output_type": "stream",
     "text": [
      "Confusion Matrix:\n",
      "[[0 0 0 ... 0 0 0]\n",
      " [0 0 0 ... 0 0 0]\n",
      " [0 0 0 ... 0 0 0]\n",
      " ...\n",
      " [0 0 0 ... 0 0 0]\n",
      " [0 0 0 ... 0 0 0]\n",
      " [0 0 0 ... 0 0 0]]\n"
     ]
    },
    {
     "data": {
      "image/png": "[encoded data removed]",
      "text/plain": [
       "<Figure size 576x432 with 2 Axes>"
      ]
     },
     "metadata": {
      "needs_background": "light"
     },
     "output_type": "display_data"
    }
   ],
   "source": [
    "# Activity 1\n",
    "# Artificial Neural Network - Perceptron\n",
    "\n",
    "import pandas as pd\n",
    "from sklearn.model_selection import train_test_split\n",
    "from sklearn.neighbors import KNeighborsClassifier\n",
    "from sklearn.metrics import confusion_matrix\n",
    "import seaborn as sns\n",
    "import matplotlib.pyplot as plt\n",
    "\n",
    "# Read the CSV file\n",
    "data = pd.read_csv('E:heart_cleveland_upload.csv')\n",
    "\n",
    "# Extract the features (X) and the target variable (y)\n",
    "X = data.drop('age', axis=1)\n",
    "y = data['age']\n",
    "\n",
    "# Split the dataset into train and test sets\n",
    "X_train, X_test, y_train, y_test = train_test_split(X, y, test_size=0.2, random_state=42)\n",
    "\n",
    "# Perform K-nearest neighbors (KNN) classification\n",
    "knn = KNeighborsClassifier()\n",
    "knn.fit(X_train, y_train)\n",
    "\n",
    "# Predict the target variable for the test set using KNN\n",
    "y_pred = knn.predict(X_test)\n",
    "\n",
    "# Generate the confusion matrix\n",
    "cm = confusion_matrix(y_test, y_pred)\n",
    "print(\"Confusion Matrix:\")\n",
    "print(cm)\n",
    "\n",
    "# Plot the confusion matrix\n",
    "plt.figure(figsize=(8, 6))\n",
    "sns.heatmap(cm, annot=True, fmt=\"d\", cmap=\"Blues\")\n",
    "plt.xlabel(\"Predicted Labels\")\n",
    "plt.ylabel(\"True Labels\")\n",
    "plt.title(\"Confusion Matrix - K-nearest Neighbors\")\n",
    "plt.show()\n"
   ]
  },
  {
   "cell_type": "code",
   "execution_count": 1,
   "id": "ec75206b",
   "metadata": {},
   "outputs": [
    {
     "name": "stdout",
     "output_type": "stream",
     "text": [
      "Accuracy: 0.016666666666666666\n",
      "Predictions:\n",
      "Actual: 66 Predicted: 65\n",
      "Actual: 59 Predicted: 52\n",
      "Actual: 41 Predicted: 54\n",
      "Actual: 37 Predicted: 54\n",
      "Actual: 64 Predicted: 59\n",
      "Actual: 68 Predicted: 62\n",
      "Actual: 63 Predicted: 67\n",
      "Actual: 70 Predicted: 67\n",
      "Actual: 59 Predicted: 60\n",
      "Actual: 44 Predicted: 41\n",
      "Actual: 43 Predicted: 52\n",
      "Actual: 68 Predicted: 54\n",
      "Actual: 61 Predicted: 54\n",
      "Actual: 58 Predicted: 54\n",
      "Actual: 55 Predicted: 54\n",
      "Actual: 58 Predicted: 44\n",
      "Actual: 43 Predicted: 65\n",
      "Actual: 57 Predicted: 60\n",
      "Actual: 50 Predicted: 58\n",
      "Actual: 41 Predicted: 52\n",
      "Actual: 54 Predicted: 58\n",
      "Actual: 54 Predicted: 59\n",
      "Actual: 44 Predicted: 41\n",
      "Actual: 52 Predicted: 54\n",
      "Actual: 45 Predicted: 48\n",
      "Actual: 56 Predicted: 58\n",
      "Actual: 64 Predicted: 58\n",
      "Actual: 56 Predicted: 67\n",
      "Actual: 51 Predicted: 55\n",
      "Actual: 44 Predicted: 58\n",
      "Actual: 54 Predicted: 59\n",
      "Actual: 58 Predicted: 65\n",
      "Actual: 71 Predicted: 54\n",
      "Actual: 66 Predicted: 67\n",
      "Actual: 61 Predicted: 60\n",
      "Actual: 69 Predicted: 60\n",
      "Actual: 54 Predicted: 57\n",
      "Actual: 65 Predicted: 54\n",
      "Actual: 62 Predicted: 54\n",
      "Actual: 71 Predicted: 67\n",
      "Actual: 52 Predicted: 57\n",
      "Actual: 50 Predicted: 52\n",
      "Actual: 57 Predicted: 57\n",
      "Actual: 44 Predicted: 52\n",
      "Actual: 61 Predicted: 60\n",
      "Actual: 59 Predicted: 58\n",
      "Actual: 59 Predicted: 52\n",
      "Actual: 62 Predicted: 67\n",
      "Actual: 64 Predicted: 62\n",
      "Actual: 51 Predicted: 54\n",
      "Actual: 60 Predicted: 58\n",
      "Actual: 35 Predicted: 57\n",
      "Actual: 63 Predicted: 57\n",
      "Actual: 45 Predicted: 58\n",
      "Actual: 61 Predicted: 58\n",
      "Actual: 40 Predicted: 52\n",
      "Actual: 70 Predicted: 59\n",
      "Actual: 57 Predicted: 62\n",
      "Actual: 63 Predicted: 65\n",
      "Actual: 63 Predicted: 62\n"
     ]
    },
    {
     "name": "stderr",
     "output_type": "stream",
     "text": [
      "C:\\Users\\USER\\Anaconda\\lib\\site-packages\\sklearn\\neural_network\\_multilayer_perceptron.py:692: ConvergenceWarning: Stochastic Optimizer: Maximum iterations (200) reached and the optimization hasn't converged yet.\n",
      "  warnings.warn(\n"
     ]
    }
   ],
   "source": [
    "import pandas as pd\n",
    "from sklearn.model_selection import train_test_split\n",
    "from sklearn.preprocessing import StandardScaler\n",
    "from sklearn.neural_network import MLPClassifier\n",
    "from sklearn.metrics import accuracy_score\n",
    "\n",
    "# Read the CSV file\n",
    "data = pd.read_csv('E:heart_cleveland_upload.csv')\n",
    "\n",
    "# Extract the features (X) and the target variable (y)\n",
    "X = data.drop('age', axis=1)\n",
    "y = data['age']\n",
    "\n",
    "# Split the dataset into train and test sets\n",
    "X_train, X_test, y_train, y_test = train_test_split(X, y, test_size=0.2, random_state=42)\n",
    "\n",
    "# Standardize the features\n",
    "scaler = StandardScaler()\n",
    "X_train = scaler.fit_transform(X_train)\n",
    "X_test = scaler.transform(X_test)\n",
    "\n",
    "# Perform Artificial Neural Network (ANN) classification\n",
    "ann = MLPClassifier(hidden_layer_sizes=(10, 10), random_state=42)\n",
    "ann.fit(X_train, y_train)\n",
    "\n",
    "# Predict the target variable for the test set using ANN\n",
    "y_pred = ann.predict(X_test)\n",
    "\n",
    "# Calculate the accuracy\n",
    "accuracy = accuracy_score(y_test, y_pred)\n",
    "print(\"Accuracy:\", accuracy)\n",
    "\n",
    "# Display the predicted labels\n",
    "print(\"Predictions:\")\n",
    "for i in range(len(y_pred)):\n",
    "    print(\"Actual:\", y_test.iloc[i], \"Predicted:\", y_pred[i])\n"
   ]
  },
  {
   "cell_type": "code",
   "execution_count": 1,
   "id": "b18bb244",
   "metadata": {},
   "outputs": [
    {
     "name": "stdout",
     "output_type": "stream",
     "text": [
      "Classifier Output:\n",
      "[1 1 0 0 0 0 1 1 0 0 0 0 0 0 0 1 1 1 1 0 1 1 0 0 0 1 1 1 0 1 0 1 0 0 1 1 0\n",
      " 0 0 0 0 1 0 0 1 1 0 1 0 0 1 1 1 0 1 1 0 1 0 1]\n",
      "\n",
      "Detailed Accuracy by Class:\n",
      "              precision    recall  f1-score   support\n",
      "\n",
      "           0       1.00      1.00      1.00        32\n",
      "           1       1.00      1.00      1.00        28\n",
      "\n",
      "    accuracy                           1.00        60\n",
      "   macro avg       1.00      1.00      1.00        60\n",
      "weighted avg       1.00      1.00      1.00        60\n",
      "\n",
      "\n",
      "Overall Accuracy: 100.00%\n",
      "\n",
      "Confusion Matrix:\n",
      "[[32  0]\n",
      " [ 0 28]]\n"
     ]
    }
   ],
   "source": [
    "# Activity 1\n",
    "# Artificial Neural Network - Perceptron\n",
    "# Multi-layer Perceptron - Backpropagation algorithm\n",
    "\n",
    "import pandas as pd\n",
    "from sklearn.model_selection import train_test_split\n",
    "from sklearn.neural_network import MLPClassifier\n",
    "from sklearn.metrics import classification_report, accuracy_score, confusion_matrix\n",
    "\n",
    "# Load the dataset\n",
    "data = pd.read_csv('E:heart_cleveland_upload.csv')\n",
    "\n",
    "# Split the dataset into features (X) and target variable (y)\n",
    "X = data.drop('age', axis=1)\n",
    "y = data['condition']\n",
    "\n",
    "# Split the data into training and testing sets\n",
    "X_train, X_test, y_train, y_test = train_test_split(X, y, test_size=0.2, random_state=42)\n",
    "\n",
    "# Train a Multi-layer Perceptron (MLP) using backpropagation algorithm\n",
    "classifier = MLPClassifier(hidden_layer_sizes=(100,), max_iter=1000, random_state=42)\n",
    "classifier.fit(X_train, y_train)\n",
    "\n",
    "# Make predictions on the test set\n",
    "y_pred = classifier.predict(X_test)\n",
    "\n",
    "# Display the classifier output\n",
    "print(\"Classifier Output:\")\n",
    "print(y_pred)\n",
    "\n",
    "# Display the detailed accuracy by class\n",
    "print(\"\\nDetailed Accuracy by Class:\")\n",
    "print(classification_report(y_test, y_pred))\n",
    "\n",
    "# Calculate and display the overall accuracy\n",
    "accuracy = accuracy_score(y_test, y_pred)\n",
    "print(\"\\nOverall Accuracy: {:.2f}%\".format(accuracy * 100))\n",
    "\n",
    "# Display the confusion matrix\n",
    "print(\"\\nConfusion Matrix:\")\n",
    "print(confusion_matrix(y_test, y_pred))\n",
    "\n",
    "\n",
    "\n",
    "# This code uses the MLPClassifier from scikit-learn to train a Multi-layer Perceptron (MLP) using the backpropagation algorithm.\n",
    "# The train_test_split function is used to split the data into training and testing sets.\n",
    "# The classification_report function computes the detailed accuracy by class, \n",
    "# and the accuracy_score function calculates the overall accuracy. \n",
    "# The confusion_matrix function generates the confusion matrix.\n"
   ]
  },
  {
   "cell_type": "code",
   "execution_count": 2,
   "id": "d023c1c6",
   "metadata": {},
   "outputs": [
    {
     "data": {
      "text/html": [
       "<div>\n",
       "<style scoped>\n",
       "    .dataframe tbody tr th:only-of-type {\n",
       "        vertical-align: middle;\n",
       "    }\n",
       "\n",
       "    .dataframe tbody tr th {\n",
       "        vertical-align: top;\n",
       "    }\n",
       "\n",
       "    .dataframe thead th {\n",
       "        text-align: right;\n",
       "    }\n",
       "</style>\n",
       "<table border=\"1\" class=\"dataframe\">\n",
       "  <thead>\n",
       "    <tr style=\"text-align: right;\">\n",
       "      <th></th>\n",
       "      <th>age</th>\n",
       "      <th>sex</th>\n",
       "      <th>cp</th>\n",
       "      <th>trestbps</th>\n",
       "      <th>chol</th>\n",
       "      <th>fbs</th>\n",
       "      <th>restecg</th>\n",
       "      <th>thalach</th>\n",
       "      <th>exang</th>\n",
       "      <th>oldpeak</th>\n",
       "      <th>slope</th>\n",
       "      <th>ca</th>\n",
       "      <th>thal</th>\n",
       "      <th>condition</th>\n",
       "    </tr>\n",
       "  </thead>\n",
       "  <tbody>\n",
       "    <tr>\n",
       "      <th>0</th>\n",
       "      <td>69</td>\n",
       "      <td>1</td>\n",
       "      <td>0</td>\n",
       "      <td>160</td>\n",
       "      <td>234</td>\n",
       "      <td>1</td>\n",
       "      <td>2</td>\n",
       "      <td>131</td>\n",
       "      <td>0</td>\n",
       "      <td>0.1</td>\n",
       "      <td>1</td>\n",
       "      <td>1</td>\n",
       "      <td>0</td>\n",
       "      <td>0</td>\n",
       "    </tr>\n",
       "    <tr>\n",
       "      <th>1</th>\n",
       "      <td>69</td>\n",
       "      <td>0</td>\n",
       "      <td>0</td>\n",
       "      <td>140</td>\n",
       "      <td>239</td>\n",
       "      <td>0</td>\n",
       "      <td>0</td>\n",
       "      <td>151</td>\n",
       "      <td>0</td>\n",
       "      <td>1.8</td>\n",
       "      <td>0</td>\n",
       "      <td>2</td>\n",
       "      <td>0</td>\n",
       "      <td>0</td>\n",
       "    </tr>\n",
       "    <tr>\n",
       "      <th>2</th>\n",
       "      <td>66</td>\n",
       "      <td>0</td>\n",
       "      <td>0</td>\n",
       "      <td>150</td>\n",
       "      <td>226</td>\n",
       "      <td>0</td>\n",
       "      <td>0</td>\n",
       "      <td>114</td>\n",
       "      <td>0</td>\n",
       "      <td>2.6</td>\n",
       "      <td>2</td>\n",
       "      <td>0</td>\n",
       "      <td>0</td>\n",
       "      <td>0</td>\n",
       "    </tr>\n",
       "    <tr>\n",
       "      <th>3</th>\n",
       "      <td>65</td>\n",
       "      <td>1</td>\n",
       "      <td>0</td>\n",
       "      <td>138</td>\n",
       "      <td>282</td>\n",
       "      <td>1</td>\n",
       "      <td>2</td>\n",
       "      <td>174</td>\n",
       "      <td>0</td>\n",
       "      <td>1.4</td>\n",
       "      <td>1</td>\n",
       "      <td>1</td>\n",
       "      <td>0</td>\n",
       "      <td>1</td>\n",
       "    </tr>\n",
       "    <tr>\n",
       "      <th>4</th>\n",
       "      <td>64</td>\n",
       "      <td>1</td>\n",
       "      <td>0</td>\n",
       "      <td>110</td>\n",
       "      <td>211</td>\n",
       "      <td>0</td>\n",
       "      <td>2</td>\n",
       "      <td>144</td>\n",
       "      <td>1</td>\n",
       "      <td>1.8</td>\n",
       "      <td>1</td>\n",
       "      <td>0</td>\n",
       "      <td>0</td>\n",
       "      <td>0</td>\n",
       "    </tr>\n",
       "  </tbody>\n",
       "</table>\n",
       "</div>"
      ],
      "text/plain": [
       "   age  sex  cp  trestbps  chol  fbs  restecg  thalach  exang  oldpeak  slope  \\\n",
       "0   69    1   0       160   234    1        2      131      0      0.1      1   \n",
       "1   69    0   0       140   239    0        0      151      0      1.8      0   \n",
       "2   66    0   0       150   226    0        0      114      0      2.6      2   \n",
       "3   65    1   0       138   282    1        2      174      0      1.4      1   \n",
       "4   64    1   0       110   211    0        2      144      1      1.8      1   \n",
       "\n",
       "   ca  thal  condition  \n",
       "0   1     0          0  \n",
       "1   2     0          0  \n",
       "2   0     0          0  \n",
       "3   1     0          1  \n",
       "4   0     0          0  "
      ]
     },
     "execution_count": 2,
     "metadata": {},
     "output_type": "execute_result"
    }
   ],
   "source": [
    "import pandas as pd\n",
    "from sklearn.model_selection import train_test_split\n",
    "from sklearn.neural_network import MLPClassifier\n",
    "from sklearn.metrics import classification_report, accuracy_score, confusion_matrix\n",
    "\n",
    "# Load the dataset\n",
    "data = pd.read_csv('E:heart_cleveland_upload.csv')\n",
    "data.head()"
   ]
  },
  {
   "cell_type": "code",
   "execution_count": 3,
   "id": "6e4c7ed3",
   "metadata": {},
   "outputs": [],
   "source": [
    "# Split the dataset into features (X) and target variable (y)\n",
    "X = data.drop('age', axis=1)\n",
    "y = data['condition']\n"
   ]
  },
  {
   "cell_type": "code",
   "execution_count": 4,
   "id": "edb7887a",
   "metadata": {},
   "outputs": [],
   "source": [
    "# Split the data into training and testing sets\n",
    "X_train, X_test, y_train, y_test = train_test_split(X, y, test_size=0.2, random_state=42)\n"
   ]
  },
  {
   "cell_type": "code",
   "execution_count": 5,
   "id": "03521d04",
   "metadata": {},
   "outputs": [
    {
     "data": {
      "text/plain": [
       "MLPClassifier(max_iter=1000, random_state=42)"
      ]
     },
     "execution_count": 5,
     "metadata": {},
     "output_type": "execute_result"
    }
   ],
   "source": [
    "# Train a Multi-layer Perceptron (MLP) using backpropagation algorithm\n",
    "classifier = MLPClassifier(hidden_layer_sizes=(100,), max_iter=1000, random_state=42)\n",
    "classifier.fit(X_train, y_train)\n"
   ]
  },
  {
   "cell_type": "code",
   "execution_count": 6,
   "id": "7ba64b95",
   "metadata": {},
   "outputs": [],
   "source": [
    "# Make predictions on the test set\n",
    "y_pred = classifier.predict(X_test)\n"
   ]
  },
  {
   "cell_type": "code",
   "execution_count": 7,
   "id": "e603a937",
   "metadata": {},
   "outputs": [
    {
     "name": "stdout",
     "output_type": "stream",
     "text": [
      "Classifier Output:\n",
      "[1 1 0 0 0 0 1 1 0 0 0 0 0 0 0 1 1 1 1 0 1 1 0 0 0 1 1 1 0 1 0 1 0 0 1 1 0\n",
      " 0 0 0 0 1 0 0 1 1 0 1 0 0 1 1 1 0 1 1 0 1 0 1]\n"
     ]
    }
   ],
   "source": [
    "# Display the classifier output\n",
    "print(\"Classifier Output:\")\n",
    "print(y_pred)"
   ]
  },
  {
   "cell_type": "code",
   "execution_count": 8,
   "id": "03b51796",
   "metadata": {},
   "outputs": [
    {
     "name": "stdout",
     "output_type": "stream",
     "text": [
      "\n",
      "Detailed Accuracy by Class:\n",
      "              precision    recall  f1-score   support\n",
      "\n",
      "           0       1.00      1.00      1.00        32\n",
      "           1       1.00      1.00      1.00        28\n",
      "\n",
      "    accuracy                           1.00        60\n",
      "   macro avg       1.00      1.00      1.00        60\n",
      "weighted avg       1.00      1.00      1.00        60\n",
      "\n"
     ]
    }
   ],
   "source": [
    "# Display the detailed accuracy by class\n",
    "print(\"\\nDetailed Accuracy by Class:\")\n",
    "print(classification_report(y_test, y_pred))"
   ]
  },
  {
   "cell_type": "code",
   "execution_count": 9,
   "id": "3ee4852b",
   "metadata": {},
   "outputs": [
    {
     "name": "stdout",
     "output_type": "stream",
     "text": [
      "\n",
      "Overall Accuracy: 100.00%\n"
     ]
    }
   ],
   "source": [
    "# Calculate and display the overall accuracy\n",
    "accuracy = accuracy_score(y_test, y_pred)\n",
    "print(\"\\nOverall Accuracy: {:.2f}%\".format(accuracy * 100))\n"
   ]
  },
  {
   "cell_type": "code",
   "execution_count": 10,
   "id": "c595646b",
   "metadata": {},
   "outputs": [
    {
     "name": "stdout",
     "output_type": "stream",
     "text": [
      "\n",
      "Confusion Matrix:\n",
      "[[32  0]\n",
      " [ 0 28]]\n"
     ]
    }
   ],
   "source": [
    "\n",
    "# Display the confusion matrix\n",
    "print(\"\\nConfusion Matrix:\")\n",
    "print(confusion_matrix(y_test, y_pred))\n",
    "\n"
   ]
  },
  {
   "cell_type": "code",
   "execution_count": null,
   "id": "fc8839a1",
   "metadata": {},
   "outputs": [],
   "source": [
    "Code uses the MLPClassifier from scikit-learn \n",
    "to train a Multi-layer Perceptron (MLP) using the backpropagation algorithm.\n",
    "The train_test_split function is used to split the data into training and testing sets.\n",
    "The classification_report function computes the detailed accuracy by class, \n",
    "and the accuracy_score function calculates the overall accuracy. \n",
    "The confusion_matrix function generates the confusion matrix."
   ]
  }
 ],
 "metadata": {
  "kernelspec": {
   "display_name": "Python 3 (ipykernel)",
   "language": "python",
   "name": "python3"
  },
  "language_info": {
   "codemirror_mode": {
    "name": "ipython",
    "version": 3
   },
   "file_extension": ".py",
   "mimetype": "text/x-python",
   "name": "python",
   "nbconvert_exporter": "python",
   "pygments_lexer": "ipython3",
   "version": "3.9.12"
  }
 },
 "nbformat": 4,
 "nbformat_minor": 5
}
