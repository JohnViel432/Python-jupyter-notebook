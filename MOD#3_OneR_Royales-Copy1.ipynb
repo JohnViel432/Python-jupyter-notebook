{
 "cells": [
  {
   "cell_type": "code",
   "execution_count": 1,
   "id": "4707da53",
   "metadata": {},
   "outputs": [],
   "source": [
    "# Activity 1\n",
    "# OneR\n",
    "\n",
    "import pandas as pd\n",
    "from sklearn.model_selection import train_test_split\n",
    "from sklearn.tree import DecisionTreeClassifier\n",
    "from sklearn.metrics import classification_report, accuracy_score, confusion_matrix\n",
    "\n",
    "# Load the dataset\n",
    "data = pd.read_csv('E:heart_failure_clinical_records_dataset.csv')"
   ]
  },
  {
   "cell_type": "code",
   "execution_count": 2,
   "id": "9623f9eb",
   "metadata": {},
   "outputs": [],
   "source": [
    "# Prepare the features and target variables\n",
    "X = data.drop('anaemia', axis=1)\n",
    "y = data['DEATH_EVENT']"
   ]
  },
  {
   "cell_type": "code",
   "execution_count": 3,
   "id": "eb4dde3d",
   "metadata": {},
   "outputs": [],
   "source": [
    "# Split the data into training and testing sets\n",
    "X_train, X_test, y_train, y_test = train_test_split(X, y, test_size=0.2, random_state=42)"
   ]
  },
  {
   "cell_type": "code",
   "execution_count": 4,
   "id": "3d09436f",
   "metadata": {},
   "outputs": [
    {
     "data": {
      "text/plain": [
       "DecisionTreeClassifier(max_depth=1)"
      ]
     },
     "execution_count": 4,
     "metadata": {},
     "output_type": "execute_result"
    }
   ],
   "source": [
    "# Initialize and train the OneR model\n",
    "model = DecisionTreeClassifier(max_depth=1)\n",
    "model.fit(X_train, y_train)"
   ]
  },
  {
   "cell_type": "code",
   "execution_count": 5,
   "id": "57d7a000",
   "metadata": {},
   "outputs": [],
   "source": [
    "# Make predictions on the testing set\n",
    "y_pred = model.predict(X_test)\n"
   ]
  },
  {
   "cell_type": "code",
   "execution_count": 6,
   "id": "ad5b6d2d",
   "metadata": {},
   "outputs": [
    {
     "name": "stdout",
     "output_type": "stream",
     "text": [
      "Classifier Output:\n",
      "[0 0 1 1 0 0 1 0 1 0 0 1 1 0 0 1 0 0 1 1 0 0 0 1 1 0 0 0 1 0 1 0 0 1 1 1 1\n",
      " 1 0 0 1 1 0 0 0 0 0 0 0 0 1 1 1 0 0 0 0 1 0 1]\n"
     ]
    }
   ],
   "source": [
    "# Print the classifier output\n",
    "print(\"Classifier Output:\")\n",
    "print(y_pred)"
   ]
  },
  {
   "cell_type": "code",
   "execution_count": 7,
   "id": "bb6a7f3f",
   "metadata": {},
   "outputs": [
    {
     "name": "stdout",
     "output_type": "stream",
     "text": [
      "Classification Report:\n",
      "              precision    recall  f1-score   support\n",
      "\n",
      "           0       1.00      1.00      1.00        35\n",
      "           1       1.00      1.00      1.00        25\n",
      "\n",
      "    accuracy                           1.00        60\n",
      "   macro avg       1.00      1.00      1.00        60\n",
      "weighted avg       1.00      1.00      1.00        60\n",
      "\n"
     ]
    }
   ],
   "source": [
    "from sklearn.metrics import classification_report\n",
    "\n",
    "# Assuming y_test and y_pred are the true labels and predicted labels, respectively\n",
    "report = classification_report(y_test, y_pred)\n",
    "\n",
    "print(\"Classification Report:\")\n",
    "print(report)\n"
   ]
  },
  {
   "cell_type": "code",
   "execution_count": 8,
   "id": "c4a405eb",
   "metadata": {},
   "outputs": [
    {
     "name": "stdout",
     "output_type": "stream",
     "text": [
      "Accuracy: 100.00%\n"
     ]
    }
   ],
   "source": [
    "# Calculate and print the overall accuracy\n",
    "accuracy = accuracy_score(y_test, y_pred)\n",
    "print(\"Accuracy: {:.2f}%\".format(accuracy * 100))"
   ]
  },
  {
   "cell_type": "code",
   "execution_count": 9,
   "id": "9be21c1c",
   "metadata": {},
   "outputs": [
    {
     "name": "stdout",
     "output_type": "stream",
     "text": [
      "Confusion Matrix:\n",
      "[[35  0]\n",
      " [ 0 25]]\n"
     ]
    }
   ],
   "source": [
    "# Print the confusion matrix\n",
    "print(\"Confusion Matrix:\")\n",
    "print(confusion_matrix(y_test, y_pred))"
   ]
  },
  {
   "cell_type": "code",
   "execution_count": null,
   "id": "637f97f5",
   "metadata": {},
   "outputs": [],
   "source": [
    "we separate the features (X) and the target variable (y).\n",
    "We then split the data into training and testing sets \n",
    "using the train_test_split function from scikit-learn. \n",
    "The test_size parameter determines the proportion of the data to be allocated for testing.\n",
    "Next, we initialize a OneR model using the DecisionTreeClassifier \n",
    "class from scikit-learn with the max_depth parameter \n",
    "set to 1. This limits the model to create only one rule based on the best feature.\n",
    "We train the OneR model on the training data by calling the fit method.\n",
    "Next, we make predictions on the testing set by calling the predict method, \n",
    "and the predicted values are stored in y_pred.\n",
    "To obtain the classifier output, we simply print the y_pred array.\n",
    "To obtain the detailed accuracy by class, we use the classification_report function from scikit-learn,\n",
    "which computes various classification metrics such as precision, recall, \n",
    "and F1-score for each class. \n",
    "We pass the actual target values (y_test) and the predicted values (y_pred) \n",
    "to the classification_report function and print the result.\n",
    "To calculate the overall accuracy, we use the accuracy_score function from scikit-learn.\n",
    "We pass the actual target values (y_test) and the predicted values (y_pred) to the accuracy_score function \n",
    "and store the result in the accuracy variable. We then print the overall accuracy as a percentage.\n",
    "To obtain the confusion matrix, we use the confusion_matrix function from scikit-learn. \n",
    "We pass the actual target values (y_test) and the predicted values (y_pred) to the confusion_matrix function \n",
    "and print the result."
   ]
  }
 ],
 "metadata": {
  "kernelspec": {
   "display_name": "Python 3 (ipykernel)",
   "language": "python",
   "name": "python3"
  },
  "language_info": {
   "codemirror_mode": {
    "name": "ipython",
    "version": 3
   },
   "file_extension": ".py",
   "mimetype": "text/x-python",
   "name": "python",
   "nbconvert_exporter": "python",
   "pygments_lexer": "ipython3",
   "version": "3.9.12"
  }
 },
 "nbformat": 4,
 "nbformat_minor": 5
}
