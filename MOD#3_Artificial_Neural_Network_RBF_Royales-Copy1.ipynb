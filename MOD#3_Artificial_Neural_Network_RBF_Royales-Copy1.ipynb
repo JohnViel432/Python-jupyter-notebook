{
 "cells": [
  {
   "cell_type": "code",
   "execution_count": 9,
   "id": "8087d981",
   "metadata": {},
   "outputs": [],
   "source": [
    "# Artificial Neural Network - RBF\n",
    "\n",
    "import pandas as pd\n",
    "import numpy as np\n",
    "from sklearn.model_selection import train_test_split\n",
    "from sklearn.preprocessing import StandardScaler\n",
    "from sklearn.neural_network import MLPClassifier\n",
    "from sklearn.metrics import classification_report, confusion_matrix\n",
    "\n",
    "# Load the dataset\n",
    "data = pd.read_csv('E:heart_cleveland_upload.csv')"
   ]
  },
  {
   "cell_type": "code",
   "execution_count": 10,
   "id": "1ff4a60b",
   "metadata": {},
   "outputs": [],
   "source": [
    "# Prepare the features and target variables\n",
    "X = data.drop('age', axis=1)\n",
    "y = data['condition']"
   ]
  },
  {
   "cell_type": "code",
   "execution_count": 11,
   "id": "9339ffc0",
   "metadata": {},
   "outputs": [],
   "source": [
    "# Split the data into training and testing sets\n",
    "X_train, X_test, y_train, y_test = train_test_split(X, y, test_size=0.2, random_state=42)"
   ]
  },
  {
   "cell_type": "code",
   "execution_count": 12,
   "id": "c8f79f56",
   "metadata": {},
   "outputs": [],
   "source": [
    "# Perform z-score normalization on the features\n",
    "scaler = StandardScaler()\n",
    "X_train_scaled = scaler.fit_transform(X_train)\n",
    "X_test_scaled = scaler.transform(X_test)"
   ]
  },
  {
   "cell_type": "code",
   "execution_count": 13,
   "id": "422194f4",
   "metadata": {},
   "outputs": [
    {
     "data": {
      "text/plain": [
       "MLPClassifier(hidden_layer_sizes=(50, 50), random_state=42)"
      ]
     },
     "execution_count": 13,
     "metadata": {},
     "output_type": "execute_result"
    }
   ],
   "source": [
    "# Initialize and train the ANN model\n",
    "model = MLPClassifier(hidden_layer_sizes=(50, 50), activation='relu', solver='adam', random_state=42)\n",
    "model.fit(X_train_scaled, y_train)"
   ]
  },
  {
   "cell_type": "code",
   "execution_count": 14,
   "id": "7b125ae2",
   "metadata": {},
   "outputs": [],
   "source": [
    "# Make predictions on the testing set\n",
    "y_pred = model.predict(X_test_scaled)"
   ]
  },
  {
   "cell_type": "code",
   "execution_count": 15,
   "id": "570f7569",
   "metadata": {},
   "outputs": [
    {
     "name": "stdout",
     "output_type": "stream",
     "text": [
      "Classifier Output:\n",
      "[1 1 0 0 0 0 1 1 1 0 0 0 0 0 0 1 1 1 1 0 1 1 0 0 0 1 1 1 0 1 0 1 0 0 1 1 0\n",
      " 0 1 0 0 1 0 0 1 1 0 1 0 0 1 1 1 0 1 1 0 1 0 1]\n"
     ]
    }
   ],
   "source": [
    "# Print the classifier output\n",
    "print(\"Classifier Output:\")\n",
    "print(y_pred)"
   ]
  },
  {
   "cell_type": "code",
   "execution_count": 17,
   "id": "dcce6ae0",
   "metadata": {},
   "outputs": [
    {
     "name": "stdout",
     "output_type": "stream",
     "text": [
      "Classification Report:\n",
      "              precision    recall  f1-score   support\n",
      "\n",
      "           0       1.00      0.94      0.97        32\n",
      "           1       0.93      1.00      0.97        28\n",
      "\n",
      "    accuracy                           0.97        60\n",
      "   macro avg       0.97      0.97      0.97        60\n",
      "weighted avg       0.97      0.97      0.97        60\n",
      "\n"
     ]
    }
   ],
   "source": [
    "from sklearn.metrics import classification_report\n",
    "\n",
    "# Assuming y_test and y_pred are the true labels and predicted labels, respectively\n",
    "report = classification_report(y_test, y_pred)\n",
    "\n",
    "print(\"Classification Report:\")\n",
    "print(report)\n"
   ]
  },
  {
   "cell_type": "code",
   "execution_count": 18,
   "id": "b10c5aaa",
   "metadata": {},
   "outputs": [
    {
     "name": "stdout",
     "output_type": "stream",
     "text": [
      "Confusion Matrix:\n",
      "[[30  2]\n",
      " [ 0 28]]\n"
     ]
    }
   ],
   "source": [
    "# Print the confusion matrix\n",
    "print(\"Confusion Matrix:\")\n",
    "print(confusion_matrix(y_test, y_pred))\n"
   ]
  },
  {
   "cell_type": "code",
   "execution_count": null,
   "id": "a19d9a4b",
   "metadata": {},
   "outputs": [],
   "source": [
    "Artificial Neural Network (ANN) model using the RBF (Radial Basis Function) kernel for classification. \n",
    "The code loads the dataset from the specified CSV file using pd.read_csv().\n",
    "The features (X) and target variable (y) are extracted from the dataset. \n",
    "In this case, the code assumes that the 'age' column is not included in the features, \n",
    "o it is dropped from X.\n",
    "The dataset is split into training and testing sets using train_test_split(). \n",
    "The test size is set to 20% of the data, and a random state is specified for reproducibility.\n",
    "Z-score normalization is performed on the features using StandardScaler(). \n",
    "This step ensures that the features have zero mean and unit variance, \n",
    "which can improve the performance of the ANN model.\n",
    "The ANN model is initialized using MLPClassifier() from scikit-learn's neural_network module. \n",
    "In this example, the model is configured with two hidden layers, each containing 50 neurons.\n",
    "The activation function 'relu' is used, and the solver 'adam' is employed for optimization. \n",
    "The random state is set for reproducibility. The model is then trained on the scaled training data using fit().\n",
    "The trained model is used to make predictions on the scaled testing set using predict().\n",
    "The classification report is generated using classification_report() from scikit-learn's metrics module. \n",
    "It provides metrics such as precision, recall, and F1-score for each class (0 and 1), \n",
    "as well as overall metrics for accuracy, macro average, and weighted average.\n",
    "The confusion matrix is computed using confusion_matrix() from scikit-learn's metrics module. \n",
    "It shows the counts of true positive, false positive, true negative,\n",
    "and false negative predictions for each class.\n",
    "The classification report and confusion matrix are printed to the console, \n",
    "providing an evaluation of the model's performance.\n",
    "Overall, the code demonstrates the process of training an ANN model using the RBF kernel for classification, \n",
    "evaluating its performance through metrics such as precision, recall, and the confusion matrix."
   ]
  }
 ],
 "metadata": {
  "kernelspec": {
   "display_name": "Python 3 (ipykernel)",
   "language": "python",
   "name": "python3"
  },
  "language_info": {
   "codemirror_mode": {
    "name": "ipython",
    "version": 3
   },
   "file_extension": ".py",
   "mimetype": "text/x-python",
   "name": "python",
   "nbconvert_exporter": "python",
   "pygments_lexer": "ipython3",
   "version": "3.9.12"
  }
 },
 "nbformat": 4,
 "nbformat_minor": 5
}
