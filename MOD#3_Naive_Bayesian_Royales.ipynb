{
 "cells": [
  {
   "cell_type": "code",
   "execution_count": 16,
   "id": "2fe6382e",
   "metadata": {},
   "outputs": [],
   "source": [
    "# Activity 1\n",
    "# Naive bayesian\n",
    "\n",
    "import pandas as pd\n",
    "from sklearn.model_selection import train_test_split\n",
    "from sklearn.naive_bayes import GaussianNB\n",
    "from sklearn.metrics import classification_report, accuracy_score, confusion_matrix\n"
   ]
  },
  {
   "cell_type": "code",
   "execution_count": 17,
   "id": "f7ad16e1",
   "metadata": {},
   "outputs": [],
   "source": [
    "# Load the dataset\n",
    "data = pd.read_csv('E:heart_cleveland_upload.csv')"
   ]
  },
  {
   "cell_type": "code",
   "execution_count": 18,
   "id": "8c3d4fec",
   "metadata": {},
   "outputs": [],
   "source": [
    "# Prepare the features and target variables\n",
    "X = data.drop('age', axis=1)\n",
    "y = data['condition']"
   ]
  },
  {
   "cell_type": "code",
   "execution_count": 19,
   "id": "8a653c42",
   "metadata": {},
   "outputs": [],
   "source": [
    "# Split the data into training and testing sets\n",
    "X_train, X_test, y_train, y_test = train_test_split(X, y, test_size=0.2, random_state=42)"
   ]
  },
  {
   "cell_type": "code",
   "execution_count": 20,
   "id": "de529910",
   "metadata": {},
   "outputs": [
    {
     "data": {
      "text/plain": [
       "GaussianNB()"
      ]
     },
     "execution_count": 20,
     "metadata": {},
     "output_type": "execute_result"
    }
   ],
   "source": [
    "# Initialize and train the Naive Bayes model\n",
    "model = GaussianNB()\n",
    "model.fit(X_train, y_train)"
   ]
  },
  {
   "cell_type": "code",
   "execution_count": 21,
   "id": "d53aa64e",
   "metadata": {},
   "outputs": [],
   "source": [
    "# Make predictions on the testing set\n",
    "y_pred = model.predict(X_test)"
   ]
  },
  {
   "cell_type": "code",
   "execution_count": 22,
   "id": "f41d433b",
   "metadata": {},
   "outputs": [
    {
     "name": "stdout",
     "output_type": "stream",
     "text": [
      "Classifier Output:\n",
      "[1 1 0 0 0 0 1 1 0 0 0 0 0 0 0 1 1 1 1 0 1 1 0 0 0 1 1 1 0 1 0 1 0 0 1 1 0\n",
      " 0 0 0 0 1 0 0 1 1 0 1 0 0 1 1 1 0 1 1 0 1 0 1]\n"
     ]
    }
   ],
   "source": [
    "# Print the classifier output\n",
    "print(\"Classifier Output:\")\n",
    "print(y_pred)"
   ]
  },
  {
   "cell_type": "code",
   "execution_count": 23,
   "id": "6e7eb38c",
   "metadata": {},
   "outputs": [
    {
     "name": "stdout",
     "output_type": "stream",
     "text": [
      "Classification Report:\n",
      "              precision    recall  f1-score   support\n",
      "\n",
      "           0       1.00      1.00      1.00        32\n",
      "           1       1.00      1.00      1.00        28\n",
      "\n",
      "    accuracy                           1.00        60\n",
      "   macro avg       1.00      1.00      1.00        60\n",
      "weighted avg       1.00      1.00      1.00        60\n",
      "\n"
     ]
    }
   ],
   "source": [
    "from sklearn.metrics import classification_report\n",
    "\n",
    "# Assuming y_test and y_pred are the true labels and predicted labels, respectively\n",
    "report = classification_report(y_test, y_pred)\n",
    "\n",
    "print(\"Classification Report:\")\n",
    "print(report)\n"
   ]
  },
  {
   "cell_type": "code",
   "execution_count": 24,
   "id": "d9161436",
   "metadata": {},
   "outputs": [
    {
     "name": "stdout",
     "output_type": "stream",
     "text": [
      "Accuracy: 100.00%\n"
     ]
    }
   ],
   "source": [
    "# Calculate and print the overall accuracy\n",
    "accuracy = accuracy_score(y_test, y_pred)\n",
    "print(\"Accuracy: {:.2f}%\".format(accuracy * 100))"
   ]
  },
  {
   "cell_type": "code",
   "execution_count": 26,
   "id": "61d1f433",
   "metadata": {},
   "outputs": [
    {
     "name": "stdout",
     "output_type": "stream",
     "text": [
      "Confusion Matrix:\n",
      "[[32  0]\n",
      " [ 0 28]]\n"
     ]
    }
   ],
   "source": [
    "# Print the confusion matrix\n",
    "print(\"Confusion Matrix:\")\n",
    "print(confusion_matrix(y_test, y_pred))"
   ]
  },
  {
   "cell_type": "code",
   "execution_count": null,
   "id": "55060726",
   "metadata": {},
   "outputs": [],
   "source": [
    "To separate the features (X) and the target variable (y).\n",
    "then split the data into training and testing sets using the train_test_split function from scikit-learn. \n",
    "The test_size parameter determines the proportion of the data to be allocated for testing.\n",
    "Next, to initialize a Naive Bayes model using the GaussianNB class from scikit-learn, \n",
    "assuming that the features follow a Gaussian distribution.\n",
    "To train the Naive Bayes model on the training data by calling the fit method.\n",
    "Next, to make predictions on the testing set by calling the predict method, \n",
    "and the predicted values are stored in y_pred.\n",
    "To obtain the classifier output, we simply print the y_pred array.\n",
    "To obtain the detailed accuracy by class, we use the classification_report function from scikit-learn, \n",
    "which computes various classification metrics such as precision, recall, \n",
    "and F1-score for each class. \n",
    "to pass the actual target values (y_test) and the predicted values (y_pred) to the classification_report function \n",
    "and print the result.\n",
    "To calculate the overall accuracy, we use the accuracy_score function from scikit-learn. \n",
    "to pass the actual target values (y_test) and the predicted values (y_pred) to the accuracy_score function\n",
    "and store the result in the accuracy variable. \n",
    "then print the overall accuracy as a percentage.\n",
    "To obtain the confusion matrix, we use the confusion_matrix function from scikit-learn. \n",
    "to pass the actual target values (y_test) and the predicted values (y_pred) to the confusion_matrix function \n",
    "and print the result.\n"
   ]
  }
 ],
 "metadata": {
  "kernelspec": {
   "display_name": "Python 3 (ipykernel)",
   "language": "python",
   "name": "python3"
  },
  "language_info": {
   "codemirror_mode": {
    "name": "ipython",
    "version": 3
   },
   "file_extension": ".py",
   "mimetype": "text/x-python",
   "name": "python",
   "nbconvert_exporter": "python",
   "pygments_lexer": "ipython3",
   "version": "3.9.12"
  }
 },
 "nbformat": 4,
 "nbformat_minor": 5
}
