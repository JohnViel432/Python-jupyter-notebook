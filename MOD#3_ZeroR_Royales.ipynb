{
 "cells": [
  {
   "cell_type": "code",
   "execution_count": null,
   "id": "14dd60f4",
   "metadata": {},
   "outputs": [],
   "source": [
    "\n",
    "\n",
    "import pandas as pd\n",
    "from sklearn.model_selection import train_test_split\n",
    "from sklearn.dummy import DummyClassifier\n",
    "from sklearn.metrics import classification_report, accuracy_score, confusion_matrix\n",
    "\n",
    "# Load the dataset\n",
    "data = pd.read_csv('E:heart_failure_clinical_records_dataset.csv')\n",
    "data.head()"
   ]
  },
  {
   "cell_type": "code",
   "execution_count": null,
   "id": "0c82a754",
   "metadata": {},
   "outputs": [],
   "source": [
    "data['DEATH_EVENT'].value_counts()"
   ]
  },
  {
   "cell_type": "code",
   "execution_count": null,
   "id": "1f125ce7",
   "metadata": {},
   "outputs": [],
   "source": [
    "import seaborn as sns\n",
    "import matplotlib.pyplot as plt\n",
    "\n",
    "sns.displot(data['DEATH_EVENT'],bins=3,kde=False)\n",
    "plt.title(\"ZeroR\")\n",
    "plt.xticks([0,1])\n",
    "plt.show()"
   ]
  },
  {
   "cell_type": "code",
   "execution_count": null,
   "id": "51388e09",
   "metadata": {},
   "outputs": [],
   "source": [
    "# Prepare the features and target variables\n",
    "X = data.drop('anaemia', axis=1)\n",
    "y = data['DEATH_EVENT']"
   ]
  },
  {
   "cell_type": "code",
   "execution_count": null,
   "id": "722cf22d",
   "metadata": {},
   "outputs": [],
   "source": [
    "# Split the data into training and testing sets\n",
    "X_train, X_test, y_train, y_test = train_test_split(X, y, test_size=0.2, random_state=42)"
   ]
  },
  {
   "cell_type": "code",
   "execution_count": null,
   "id": "2b24aa4e",
   "metadata": {},
   "outputs": [],
   "source": [
    "# Initialize and train the ZeroR model\n",
    "model = DummyClassifier(strategy=\"most_frequent\")\n",
    "model.fit(X_train, y_train)\n"
   ]
  },
  {
   "cell_type": "code",
   "execution_count": null,
   "id": "4560586e",
   "metadata": {},
   "outputs": [],
   "source": [
    "# Make predictions on the testing set\n",
    "y_pred = model.predict(X_test)"
   ]
  },
  {
   "cell_type": "code",
   "execution_count": null,
   "id": "b94043d8",
   "metadata": {},
   "outputs": [],
   "source": [
    "# Print the classifier output\n",
    "print(\"Classifier Output:\")\n",
    "print(y_pred)"
   ]
  },
  {
   "cell_type": "code",
   "execution_count": null,
   "id": "f0bd38b6",
   "metadata": {},
   "outputs": [],
   "source": [
    "from sklearn.metrics import classification_report\n",
    "\n",
    "# Assuming y_test and y_pred are the true labels and predicted labels, respectively\n",
    "report = classification_report(y_test, y_pred)\n",
    "\n",
    "print(\"Classification Report:\")\n",
    "print(report)\n"
   ]
  },
  {
   "cell_type": "code",
   "execution_count": null,
   "id": "5ebe1a27",
   "metadata": {},
   "outputs": [],
   "source": [
    "# Calculate and print the overall accuracy\n",
    "accuracy = accuracy_score(y_test, y_pred)\n",
    "print(\"Accuracy: {:.2f}%\".format(accuracy * 100))"
   ]
  },
  {
   "cell_type": "code",
   "execution_count": null,
   "id": "fbd2230b",
   "metadata": {},
   "outputs": [],
   "source": [
    "# Print the confusion matrix\n",
    "print(\"Confusion Matrix:\")\n",
    "print(confusion_matrix(y_test, y_pred))"
   ]
  },
  {
   "cell_type": "code",
   "execution_count": null,
   "id": "cadacbc7",
   "metadata": {},
   "outputs": [],
   "source": [
    "Prepare the features (X) and target variable (y) by dropping the 'anaemia' column from the features.\n",
    "Split the data into training and testing sets using train_test_split from scikit-learn.\n",
    "Initialize and train the ZeroR model using DummyClassifier with the strategy set to \"most_frequent\".\n",
    "This strategy predicts the most frequent class (0 in this case) for all instances.\n",
    "Make predictions on the testing set using the trained ZeroR model.\n",
    "Print the classifier output, which shows the predicted labels for the testing set.\n",
    "Calculate and print the classification report using classification_report from scikit-learn.\n",
    "The report includes metrics such as precision, recall, \n",
    "and F1-score for each class, as well as the support (number of instances) for each class.\n",
    "Calculate and print the overall accuracy using accuracy_score from scikit-learn.\n",
    "Print the confusion matrix using confusion_matrix from scikit-learn.\n",
    "The confusion matrix shows the number of true positives,\n",
    "true negatives, false positives, and false negatives.\n",
    "Overall, the code demonstrates the implementation of ZeroR as a baseline classifier\n",
    "and evaluates its performance on the provided dataset.\n",
    "In this case, the ZeroR model predicts the majority class (0) for all instances,\n",
    "resulting in low accuracy and no true positive or false positive predictions for the minority class (1)."
   ]
  }
 ],
 "metadata": {
  "kernelspec": {
   "display_name": "Python 3 (ipykernel)",
   "language": "python",
   "name": "python3"
  },
  "language_info": {
   "codemirror_mode": {
    "name": "ipython",
    "version": 3
   },
   "file_extension": ".py",
   "mimetype": "text/x-python",
   "name": "python",
   "nbconvert_exporter": "python",
   "pygments_lexer": "ipython3",
   "version": "3.9.12"
  }
 },
 "nbformat": 4,
 "nbformat_minor": 5
}
