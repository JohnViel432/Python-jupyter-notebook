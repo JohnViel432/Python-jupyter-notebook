{
 "cells": [
  {
   "cell_type": "code",
   "execution_count": 1,
   "id": "582ea5c7",
   "metadata": {},
   "outputs": [
    {
     "name": "stdout",
     "output_type": "stream",
     "text": [
      "Mean Squared Error: 136.61352064382007\n"
     ]
    },
    {
     "name": "stderr",
     "output_type": "stream",
     "text": [
      "C:\\Users\\USER\\Anaconda\\lib\\site-packages\\sklearn\\neural_network\\_multilayer_perceptron.py:692: ConvergenceWarning: Stochastic Optimizer: Maximum iterations (200) reached and the optimization hasn't converged yet.\n",
      "  warnings.warn(\n"
     ]
    }
   ],
   "source": [
    "# Activity 2\n",
    "# Artificial_Neural_Network\n",
    "# Transfer (Activation) Functions\n",
    "\n",
    "import pandas as pd\n",
    "import numpy as np\n",
    "from sklearn.model_selection import train_test_split\n",
    "from sklearn.preprocessing import StandardScaler\n",
    "from sklearn.neural_network import MLPRegressor\n",
    "from sklearn.metrics import mean_squared_error\n",
    "\n",
    "# Load the dataset\n",
    "data = pd.read_csv('E:heart_cleveland_upload.csv')\n",
    "\n",
    "# Prepare the features and target variables\n",
    "X = data.drop('age', axis=1)\n",
    "y = data['age']\n",
    "\n",
    "# Split the data into training and testing sets\n",
    "X_train, X_test, y_train, y_test = train_test_split(X, y, test_size=0.2, random_state=42)\n",
    "\n",
    "# Perform z-score normalization on the features\n",
    "scaler = StandardScaler()\n",
    "X_train_scaled = scaler.fit_transform(X_train)\n",
    "X_test_scaled = scaler.transform(X_test)\n",
    "\n",
    "# Initialize and train the ANN model\n",
    "model = MLPRegressor(hidden_layer_sizes=(50, 50), activation='relu', solver='adam', random_state=42)\n",
    "model.fit(X_train_scaled, y_train)\n",
    "\n",
    "# Make predictions on the testing set\n",
    "y_pred = model.predict(X_test_scaled)\n",
    "\n",
    "# Evaluate the model\n",
    "mse = mean_squared_error(y_test, y_pred)\n",
    "\n",
    "print(\"Mean Squared Error:\", mse)\n",
    "\n",
    "# we split the data into training and testing sets using the train_test_split function from scikit-learn. \n",
    "# The test_size parameter determines the proportion of the data to be allocated for testing.\n",
    "# We then perform z-score normalization on the features using the StandardScaler from scikit-learn.\n",
    "# After that, we initialize an Artificial Neural Network (ANN) model using the MLPRegressor class from scikit-learn. \n",
    "# The hidden_layer_sizes parameter specifies the number and size of the hidden layers in the network.\n",
    "# we have two hidden layers, each with 50 neurons. \n",
    "# The activation parameter defines the activation function to be used in the hidden layers,\n",
    "# with 'relu' indicating the Rectified Linear Unit (ReLU) function. The solver parameter determines the optimization algorithm,\n",
    "# and 'adam' is used here. The random_state parameter ensures reproducibility of results.\n",
    "# We then train the ANN model on the scaled training data X_train_scaled and the target variable y_train using the fit method.\n",
    "# Next, we make predictions on the scaled testing set X_test_scaled using the predict method, and the predicted values are stored in y_pred.\n",
    "# Finally, we evaluate the model's performance by calculating the mean squared error (MSE) between the predicted values (y_pred) and the actual target values (y_test). \n",
    "# The MSE is a common metric for evaluating regression models, where a lower value indicates better performance. The MSE is printed to the console.\n"
   ]
  },
  {
   "cell_type": "code",
   "execution_count": 3,
   "id": "98669026",
   "metadata": {},
   "outputs": [
    {
     "name": "stdout",
     "output_type": "stream",
     "text": [
      "Accuracy: 0.05\n"
     ]
    },
    {
     "name": "stderr",
     "output_type": "stream",
     "text": [
      "C:\\Users\\USER\\Anaconda\\lib\\site-packages\\sklearn\\neural_network\\_multilayer_perceptron.py:692: ConvergenceWarning: Stochastic Optimizer: Maximum iterations (200) reached and the optimization hasn't converged yet.\n",
      "  warnings.warn(\n"
     ]
    }
   ],
   "source": [
    "# Accuracy\n",
    "\n",
    "import pandas as pd\n",
    "import numpy as np\n",
    "from sklearn.model_selection import train_test_split\n",
    "from sklearn.preprocessing import StandardScaler\n",
    "from sklearn.neural_network import MLPClassifier\n",
    "from sklearn.metrics import accuracy_score\n",
    "\n",
    "# Load the dataset\n",
    "data = pd.read_csv('E:heart_cleveland_upload.csv')\n",
    "\n",
    "# Prepare the features and target variables\n",
    "X = data.drop('age', axis=1)\n",
    "y = data['age']\n",
    "\n",
    "# Split the data into training and testing sets\n",
    "X_train, X_test, y_train, y_test = train_test_split(X, y, test_size=0.2, random_state=42)\n",
    "\n",
    "# Perform z-score normalization on the features\n",
    "scaler = StandardScaler()\n",
    "X_train_scaled = scaler.fit_transform(X_train)\n",
    "X_test_scaled = scaler.transform(X_test)\n",
    "\n",
    "# Initialize and train the MLP model\n",
    "model = MLPClassifier(hidden_layer_sizes=(50, 50), activation='relu', solver='adam', random_state=42)\n",
    "model.fit(X_train_scaled, y_train)\n",
    "\n",
    "# Make predictions on the testing set\n",
    "y_pred = model.predict(X_test_scaled)\n",
    "\n",
    "# Calculate the accuracy of the model\n",
    "accuracy = accuracy_score(y_test, y_pred)\n",
    "\n",
    "print(\"Accuracy:\", accuracy)\n",
    "\n",
    "# we separate the features (X) and the target variable (y).\n",
    "# We then split the data into training and testing sets using the train_test_split function from scikit-learn. \n",
    "# The test_size parameter determines the proportion of the data to be allocated for testing.\n",
    "# Next, we perform z-score normalization on the features using the StandardScaler from scikit-learn.\n",
    "# After that, we initialize an MLP model using the MLPClassifier class from scikit-learn. \n",
    "# The hidden_layer_sizes parameter specifies the number and size of the hidden layers in the network.\n",
    "# In this example, we have two hidden layers, each with 50 neurons. \n",
    "# The activation parameter is set to 'relu' to use the Rectified Linear Unit (ReLU) function. \n",
    "# The solver parameter determines the optimization algorithm, and 'adam' is used here. \n",
    "# The random_state parameter ensures reproducibility of results.\n",
    "# We then train the MLP model on the scaled training data X_train_scaled and the target variable y_train using the fit method.\n",
    "# Next, we make predictions on the scaled testing set X_test_scaled using the predict method, \n",
    "# and the predicted values are stored in y_pred.\n",
    "# Finally, we calculate the accuracy of the model by comparing the predicted values (y_pred)\n",
    "# with the actual target values (y_test) using the accuracy_score function from scikit-learn.\n",
    "# The accuracy is printed to the console.\n"
   ]
  },
  {
   "cell_type": "code",
   "execution_count": 4,
   "id": "7bbd27fd",
   "metadata": {},
   "outputs": [
    {
     "name": "stderr",
     "output_type": "stream",
     "text": [
      "C:\\Users\\USER\\Anaconda\\lib\\site-packages\\sklearn\\neural_network\\_multilayer_perceptron.py:692: ConvergenceWarning: Stochastic Optimizer: Maximum iterations (200) reached and the optimization hasn't converged yet.\n",
      "  warnings.warn(\n"
     ]
    },
    {
     "name": "stdout",
     "output_type": "stream",
     "text": [
      "Classifier Output:\n",
      "[68 60 64 50 59 58 67 67 56 51 43 43 59 43 60 52 56 63 59 44 57 57 29 42\n",
      " 44 57 65 68 59 55 52 68 54 53 59 65 56 54 57 58 46 57 51 52 60 58 60 62\n",
      " 62 51 46 57 57 54 51 61 59 64 56 67]\n",
      "Detailed Accuracy by Class:\n",
      "              precision    recall  f1-score   support\n",
      "\n",
      "          29       0.00      0.00      0.00         0\n",
      "          35       0.00      0.00      0.00         1\n",
      "          37       0.00      0.00      0.00         1\n",
      "          40       0.00      0.00      0.00         1\n",
      "          41       0.00      0.00      0.00         2\n",
      "          42       0.00      0.00      0.00         0\n",
      "          43       0.33      0.50      0.40         2\n",
      "          44       0.00      0.00      0.00         4\n",
      "          45       0.00      0.00      0.00         2\n",
      "          46       0.00      0.00      0.00         0\n",
      "          50       0.00      0.00      0.00         2\n",
      "          51       0.25      0.50      0.33         2\n",
      "          52       0.00      0.00      0.00         2\n",
      "          53       0.00      0.00      0.00         0\n",
      "          54       0.00      0.00      0.00         4\n",
      "          55       0.00      0.00      0.00         1\n",
      "          56       0.00      0.00      0.00         2\n",
      "          57       0.00      0.00      0.00         3\n",
      "          58       0.00      0.00      0.00         3\n",
      "          59       0.00      0.00      0.00         4\n",
      "          60       0.00      0.00      0.00         1\n",
      "          61       0.00      0.00      0.00         4\n",
      "          62       0.50      0.50      0.50         2\n",
      "          63       0.00      0.00      0.00         4\n",
      "          64       0.00      0.00      0.00         3\n",
      "          65       0.00      0.00      0.00         1\n",
      "          66       0.00      0.00      0.00         2\n",
      "          67       0.00      0.00      0.00         0\n",
      "          68       0.00      0.00      0.00         2\n",
      "          69       0.00      0.00      0.00         1\n",
      "          70       0.00      0.00      0.00         2\n",
      "          71       0.00      0.00      0.00         2\n",
      "\n",
      "    accuracy                           0.05        60\n",
      "   macro avg       0.03      0.05      0.04        60\n",
      "weighted avg       0.04      0.05      0.04        60\n",
      "\n",
      "Confusion Matrix:\n",
      "[[0 0 0 ... 0 0 0]\n",
      " [0 0 0 ... 0 0 0]\n",
      " [0 0 0 ... 0 0 0]\n",
      " ...\n",
      " [0 0 0 ... 0 0 0]\n",
      " [0 0 0 ... 0 0 0]\n",
      " [0 0 0 ... 0 0 0]]\n"
     ]
    },
    {
     "name": "stderr",
     "output_type": "stream",
     "text": [
      "C:\\Users\\USER\\Anaconda\\lib\\site-packages\\sklearn\\metrics\\_classification.py:1318: UndefinedMetricWarning: Precision and F-score are ill-defined and being set to 0.0 in labels with no predicted samples. Use `zero_division` parameter to control this behavior.\n",
      "  _warn_prf(average, modifier, msg_start, len(result))\n",
      "C:\\Users\\USER\\Anaconda\\lib\\site-packages\\sklearn\\metrics\\_classification.py:1318: UndefinedMetricWarning: Recall and F-score are ill-defined and being set to 0.0 in labels with no true samples. Use `zero_division` parameter to control this behavior.\n",
      "  _warn_prf(average, modifier, msg_start, len(result))\n",
      "C:\\Users\\USER\\Anaconda\\lib\\site-packages\\sklearn\\metrics\\_classification.py:1318: UndefinedMetricWarning: Precision and F-score are ill-defined and being set to 0.0 in labels with no predicted samples. Use `zero_division` parameter to control this behavior.\n",
      "  _warn_prf(average, modifier, msg_start, len(result))\n",
      "C:\\Users\\USER\\Anaconda\\lib\\site-packages\\sklearn\\metrics\\_classification.py:1318: UndefinedMetricWarning: Recall and F-score are ill-defined and being set to 0.0 in labels with no true samples. Use `zero_division` parameter to control this behavior.\n",
      "  _warn_prf(average, modifier, msg_start, len(result))\n",
      "C:\\Users\\USER\\Anaconda\\lib\\site-packages\\sklearn\\metrics\\_classification.py:1318: UndefinedMetricWarning: Precision and F-score are ill-defined and being set to 0.0 in labels with no predicted samples. Use `zero_division` parameter to control this behavior.\n",
      "  _warn_prf(average, modifier, msg_start, len(result))\n",
      "C:\\Users\\USER\\Anaconda\\lib\\site-packages\\sklearn\\metrics\\_classification.py:1318: UndefinedMetricWarning: Recall and F-score are ill-defined and being set to 0.0 in labels with no true samples. Use `zero_division` parameter to control this behavior.\n",
      "  _warn_prf(average, modifier, msg_start, len(result))\n"
     ]
    }
   ],
   "source": [
    "# Artificial Neural Network - RBF\n",
    "\n",
    "import pandas as pd\n",
    "import numpy as np\n",
    "from sklearn.model_selection import train_test_split\n",
    "from sklearn.preprocessing import StandardScaler\n",
    "from sklearn.neural_network import MLPClassifier\n",
    "from sklearn.metrics import classification_report, confusion_matrix\n",
    "\n",
    "# Load the dataset\n",
    "data = pd.read_csv('E:heart_cleveland_upload.csv')\n",
    "\n",
    "# Prepare the features and target variables\n",
    "X = data.drop('age', axis=1)\n",
    "y = data['age']\n",
    "\n",
    "# Split the data into training and testing sets\n",
    "X_train, X_test, y_train, y_test = train_test_split(X, y, test_size=0.2, random_state=42)\n",
    "\n",
    "# Perform z-score normalization on the features\n",
    "scaler = StandardScaler()\n",
    "X_train_scaled = scaler.fit_transform(X_train)\n",
    "X_test_scaled = scaler.transform(X_test)\n",
    "\n",
    "# Initialize and train the ANN model\n",
    "model = MLPClassifier(hidden_layer_sizes=(50, 50), activation='relu', solver='adam', random_state=42)\n",
    "model.fit(X_train_scaled, y_train)\n",
    "\n",
    "# Make predictions on the testing set\n",
    "y_pred = model.predict(X_test_scaled)\n",
    "\n",
    "# Print the classifier output\n",
    "print(\"Classifier Output:\")\n",
    "print(y_pred)\n",
    "\n",
    "# Print the detailed accuracy by class\n",
    "print(\"Detailed Accuracy by Class:\")\n",
    "print(classification_report(y_test, y_pred))\n",
    "\n",
    "# Print the confusion matrix\n",
    "print(\"Confusion Matrix:\")\n",
    "print(confusion_matrix(y_test, y_pred))\n"
   ]
  },
  {
   "cell_type": "code",
   "execution_count": 9,
   "id": "8087d981",
   "metadata": {},
   "outputs": [],
   "source": [
    "# Artificial Neural Network - RBF\n",
    "\n",
    "import pandas as pd\n",
    "import numpy as np\n",
    "from sklearn.model_selection import train_test_split\n",
    "from sklearn.preprocessing import StandardScaler\n",
    "from sklearn.neural_network import MLPClassifier\n",
    "from sklearn.metrics import classification_report, confusion_matrix\n",
    "\n",
    "# Load the dataset\n",
    "data = pd.read_csv('E:heart_cleveland_upload.csv')"
   ]
  },
  {
   "cell_type": "code",
   "execution_count": 10,
   "id": "1ff4a60b",
   "metadata": {},
   "outputs": [],
   "source": [
    "# Prepare the features and target variables\n",
    "X = data.drop('age', axis=1)\n",
    "y = data['condition']"
   ]
  },
  {
   "cell_type": "code",
   "execution_count": 11,
   "id": "9339ffc0",
   "metadata": {},
   "outputs": [],
   "source": [
    "# Split the data into training and testing sets\n",
    "X_train, X_test, y_train, y_test = train_test_split(X, y, test_size=0.2, random_state=42)"
   ]
  },
  {
   "cell_type": "code",
   "execution_count": 12,
   "id": "c8f79f56",
   "metadata": {},
   "outputs": [],
   "source": [
    "# Perform z-score normalization on the features\n",
    "scaler = StandardScaler()\n",
    "X_train_scaled = scaler.fit_transform(X_train)\n",
    "X_test_scaled = scaler.transform(X_test)"
   ]
  },
  {
   "cell_type": "code",
   "execution_count": 13,
   "id": "422194f4",
   "metadata": {},
   "outputs": [
    {
     "data": {
      "text/plain": [
       "MLPClassifier(hidden_layer_sizes=(50, 50), random_state=42)"
      ]
     },
     "execution_count": 13,
     "metadata": {},
     "output_type": "execute_result"
    }
   ],
   "source": [
    "# Initialize and train the ANN model\n",
    "model = MLPClassifier(hidden_layer_sizes=(50, 50), activation='relu', solver='adam', random_state=42)\n",
    "model.fit(X_train_scaled, y_train)"
   ]
  },
  {
   "cell_type": "code",
   "execution_count": 14,
   "id": "7b125ae2",
   "metadata": {},
   "outputs": [],
   "source": [
    "# Make predictions on the testing set\n",
    "y_pred = model.predict(X_test_scaled)"
   ]
  },
  {
   "cell_type": "code",
   "execution_count": 15,
   "id": "570f7569",
   "metadata": {},
   "outputs": [
    {
     "name": "stdout",
     "output_type": "stream",
     "text": [
      "Classifier Output:\n",
      "[1 1 0 0 0 0 1 1 1 0 0 0 0 0 0 1 1 1 1 0 1 1 0 0 0 1 1 1 0 1 0 1 0 0 1 1 0\n",
      " 0 1 0 0 1 0 0 1 1 0 1 0 0 1 1 1 0 1 1 0 1 0 1]\n"
     ]
    }
   ],
   "source": [
    "# Print the classifier output\n",
    "print(\"Classifier Output:\")\n",
    "print(y_pred)"
   ]
  },
  {
   "cell_type": "code",
   "execution_count": 17,
   "id": "dcce6ae0",
   "metadata": {},
   "outputs": [
    {
     "name": "stdout",
     "output_type": "stream",
     "text": [
      "Classification Report:\n",
      "              precision    recall  f1-score   support\n",
      "\n",
      "           0       1.00      0.94      0.97        32\n",
      "           1       0.93      1.00      0.97        28\n",
      "\n",
      "    accuracy                           0.97        60\n",
      "   macro avg       0.97      0.97      0.97        60\n",
      "weighted avg       0.97      0.97      0.97        60\n",
      "\n"
     ]
    }
   ],
   "source": [
    "from sklearn.metrics import classification_report\n",
    "\n",
    "# Assuming y_test and y_pred are the true labels and predicted labels, respectively\n",
    "report = classification_report(y_test, y_pred)\n",
    "\n",
    "print(\"Classification Report:\")\n",
    "print(report)\n"
   ]
  },
  {
   "cell_type": "code",
   "execution_count": 18,
   "id": "b10c5aaa",
   "metadata": {},
   "outputs": [
    {
     "name": "stdout",
     "output_type": "stream",
     "text": [
      "Confusion Matrix:\n",
      "[[30  2]\n",
      " [ 0 28]]\n"
     ]
    }
   ],
   "source": [
    "# Print the confusion matrix\n",
    "print(\"Confusion Matrix:\")\n",
    "print(confusion_matrix(y_test, y_pred))\n"
   ]
  },
  {
   "cell_type": "code",
   "execution_count": null,
   "id": "a19d9a4b",
   "metadata": {},
   "outputs": [],
   "source": []
  }
 ],
 "metadata": {
  "kernelspec": {
   "display_name": "Python 3 (ipykernel)",
   "language": "python",
   "name": "python3"
  },
  "language_info": {
   "codemirror_mode": {
    "name": "ipython",
    "version": 3
   },
   "file_extension": ".py",
   "mimetype": "text/x-python",
   "name": "python",
   "nbconvert_exporter": "python",
   "pygments_lexer": "ipython3",
   "version": "3.9.12"
  }
 },
 "nbformat": 4,
 "nbformat_minor": 5
}
